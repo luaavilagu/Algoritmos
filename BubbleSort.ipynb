{
 "cells": [
  {
   "cell_type": "markdown",
   "metadata": {
    "collapsed": false
   },
   "source": [
    "# Bubble Sort"
   ]
  },
  {
   "cell_type": "markdown",
   "metadata": {},
   "source": [
    "## Loops"
   ]
  },
  {
   "cell_type": "code",
   "execution_count": 1,
   "metadata": {
    "collapsed": false
   },
   "outputs": [
    {
     "name": "stdout",
     "output_type": "stream",
     "text": [
      "('el promedio es : ', 5)\n",
      "[6, 5, 6, 6, 6, 6, 6, 5, 6, 5, 5, 3, 6, 6, 6, 5, 6, 6, 6, 6, 5, 5, 6, 6]\n"
     ]
    },
    {
     "data": {
      "text/plain": [
       "(array([  1.,   0.,   0.,   0.,   0.,   0.,   0.,   0.,   0.,   0.,   0.,\n",
       "          0.,   0.,   0.,   0.,   0.,   7.,   0.,   0.,   0.,   0.,   0.,\n",
       "          0.,  16.]),\n",
       " array([ 3.   ,  3.125,  3.25 ,  3.375,  3.5  ,  3.625,  3.75 ,  3.875,\n",
       "         4.   ,  4.125,  4.25 ,  4.375,  4.5  ,  4.625,  4.75 ,  4.875,\n",
       "         5.   ,  5.125,  5.25 ,  5.375,  5.5  ,  5.625,  5.75 ,  5.875,  6.   ]),\n",
       " <a list of 24 Patch objects>)"
      ]
     },
     "execution_count": 1,
     "metadata": {},
     "output_type": "execute_result"
    },
    {
     "data": {
      "image/png": "[encoded data removed]",
      "text/plain": [
       "<matplotlib.figure.Figure at 0x7f27fd402fd0>"
      ]
     },
     "metadata": {},
     "output_type": "display_data"
    }
   ],
   "source": [
    "from itertools import permutations\n",
    "import matplotlib.pyplot as plt\n",
    "import random\n",
    "\n",
    "\n",
    "def bubble_sort(inp_lis):\n",
    "    end=len(inp_lis)\n",
    "    swap_count=0\n",
    "    total_loops=0\n",
    "    quest_count=0\n",
    "    for i in range(1,end):\n",
    "        local_swaps=0\n",
    "        quest_count +=1\n",
    "        for j in range(end-i): \n",
    "            quest_count+=1                      #each time the loop size decrease by 1, initially loop size n-1\n",
    "            if inp_lis[j] > inp_lis[j+1]:               #if current element is bigger than next\n",
    "              inp_lis[j],inp_lis[j+1] = inp_lis[j+1],inp_lis[j]          #swap\n",
    "              swap_count += 1                                        #increment swap_count\n",
    "              local_swaps+=1\n",
    "              quest_count+=1\n",
    "        total_loops += j+1\n",
    "        #quest_count += 1\n",
    "        if not local_swaps:\n",
    "            quest_count += 1\n",
    "            break\n",
    "   #total_loops\n",
    "   #swap_count\n",
    "    #return swap_count\n",
    "    return total_loops \n",
    "\n",
    "n=4\n",
    "s= random.sample(range(100), n)\n",
    "s = list (s)\n",
    "x= list (permutations(s, n))\n",
    "f=n\n",
    "fac=1\n",
    "p=[]\n",
    "while f > 0:\n",
    "    fac= fac*f\n",
    "    f= f-1\n",
    "for i in range (0,fac):\n",
    "    t = list (x[i])\n",
    "    p.append(bubble_sort(t))\n",
    "    \n",
    "prom=0\n",
    "suma = 0    \n",
    "for h in range (0,len(p)):\n",
    "    suma = suma + p[h]\n",
    "    \n",
    "prom = (suma)/fac\n",
    "print (\"el promedio es : \",  prom)\n",
    "print (p)\n",
    "plt.hist(p,fac,(min(p),max(p)))"
   ]
  },
  {
   "cell_type": "code",
   "execution_count": 2,
   "metadata": {
    "collapsed": false,
    "scrolled": true
   },
   "outputs": [
    {
     "name": "stdout",
     "output_type": "stream",
     "text": [
      "('el promedio es : ', 25)\n"
     ]
    },
    {
     "data": {
      "text/plain": [
       "(array([  1.00000000e+00,   0.00000000e+00,   0.00000000e+00, ...,\n",
       "          0.00000000e+00,   0.00000000e+00,   1.44000000e+04]),\n",
       " array([  7.        ,   7.00052083,   7.00104167, ...,  27.99895833,\n",
       "         27.99947917,  28.        ]),\n",
       " <a list of 40320 Patch objects>)"
      ]
     },
     "execution_count": 2,
     "metadata": {},
     "output_type": "execute_result"
    },
    {
     "data": {
      "image/png": "[encoded data removed]",
      "text/plain": [
       "<matplotlib.figure.Figure at 0x7f2804a28c50>"
      ]
     },
     "metadata": {},
     "output_type": "display_data"
    }
   ],
   "source": [
    "from itertools import permutations\n",
    "import matplotlib.pyplot as plt\n",
    "import random\n",
    "\n",
    "\n",
    "def bubble_sort(inp_lis):\n",
    "    end=len(inp_lis)\n",
    "    swap_count=0\n",
    "    total_loops=0\n",
    "    quest_count=0\n",
    "    for i in range(1,end):\n",
    "        local_swaps=0\n",
    "        quest_count +=1\n",
    "        for j in range(end-i): \n",
    "            quest_count+=1                      #each time the loop size decrease by 1, initially loop size n-1\n",
    "            if inp_lis[j] > inp_lis[j+1]:               #if current element is bigger than next\n",
    "              inp_lis[j],inp_lis[j+1] = inp_lis[j+1],inp_lis[j]          #swap\n",
    "              swap_count += 1                                        #increment swap_count\n",
    "              local_swaps+=1\n",
    "              quest_count+=1\n",
    "        total_loops += j+1\n",
    "        #quest_count += 1\n",
    "        if not local_swaps:\n",
    "            quest_count += 1\n",
    "            break\n",
    "   #total_loops\n",
    "   #swap_count\n",
    "    #return swap_count\n",
    "    return total_loops \n",
    "\n",
    "n=8\n",
    "s= random.sample(range(100), n)\n",
    "s = list (s)\n",
    "x= list (permutations(s, n))\n",
    "f=n\n",
    "fac=1\n",
    "p=[]\n",
    "while f > 0:\n",
    "    fac= fac*f\n",
    "    f= f-1\n",
    "for i in range (0,fac):\n",
    "    t = list (x[i])\n",
    "    p.append(bubble_sort(t))\n",
    "    \n",
    "prom=0\n",
    "suma = 0    \n",
    "for h in range (0,len(p)):\n",
    "    suma = suma + p[h]\n",
    "    \n",
    "prom = (suma)/fac\n",
    "print (\"el promedio es : \",  prom)\n",
    "plt.hist(p,fac,(min(p),max(p)))"
   ]
  },
  {
   "cell_type": "markdown",
   "metadata": {},
   "source": [
    "## Swaps"
   ]
  },
  {
   "cell_type": "code",
   "execution_count": 3,
   "metadata": {
    "collapsed": false
   },
   "outputs": [
    {
     "name": "stdout",
     "output_type": "stream",
     "text": [
      "('el promedio es : ', 3)\n",
      "[3, 4, 4, 5, 5, 6, 2, 3, 1, 0, 2, 1, 3, 4, 2, 1, 3, 2, 4, 5, 3, 2, 4, 3]\n"
     ]
    },
    {
     "data": {
      "text/plain": [
       "(array([ 1.,  0.,  0.,  0.,  3.,  0.,  0.,  0.,  5.,  0.,  0.,  0.,  6.,\n",
       "         0.,  0.,  0.,  5.,  0.,  0.,  0.,  3.,  0.,  0.,  1.]),\n",
       " array([ 0.  ,  0.25,  0.5 ,  0.75,  1.  ,  1.25,  1.5 ,  1.75,  2.  ,\n",
       "         2.25,  2.5 ,  2.75,  3.  ,  3.25,  3.5 ,  3.75,  4.  ,  4.25,\n",
       "         4.5 ,  4.75,  5.  ,  5.25,  5.5 ,  5.75,  6.  ]),\n",
       " <a list of 24 Patch objects>)"
      ]
     },
     "execution_count": 3,
     "metadata": {},
     "output_type": "execute_result"
    },
    {
     "data": {
      "image/png": "[encoded data removed]",
      "text/plain": [
       "<matplotlib.figure.Figure at 0x7f27fddfdb10>"
      ]
     },
     "metadata": {},
     "output_type": "display_data"
    }
   ],
   "source": [
    "from itertools import permutations\n",
    "import matplotlib.pyplot as plt\n",
    "import random\n",
    "\n",
    "\n",
    "def bubble_sort(inp_lis):\n",
    "    end=len(inp_lis)\n",
    "    swap_count=0\n",
    "    total_loops=0\n",
    "    quest_count=0\n",
    "    for i in range(1,end):\n",
    "        local_swaps=0\n",
    "        quest_count +=1\n",
    "        for j in range(end-i): \n",
    "            quest_count+=1                      #each time the loop size decrease by 1, initially loop size n-1\n",
    "            if inp_lis[j] > inp_lis[j+1]:               #if current element is bigger than next\n",
    "              inp_lis[j],inp_lis[j+1] = inp_lis[j+1],inp_lis[j]          #swap\n",
    "              swap_count += 1                                        #increment swap_count\n",
    "              local_swaps+=1\n",
    "              quest_count+=1\n",
    "        total_loops += j+1\n",
    "        #quest_count += 1\n",
    "        if not local_swaps:\n",
    "            quest_count += 1\n",
    "            break\n",
    "\n",
    "    return swap_count\n",
    "\n",
    "n=4\n",
    "s= random.sample(range(100), n)\n",
    "s = list (s)\n",
    "x= list (permutations(s, n))\n",
    "f=n\n",
    "fac=1\n",
    "p=[]\n",
    "while f > 0:\n",
    "    fac= fac*f\n",
    "    f= f-1\n",
    "for i in range (0,fac):\n",
    "    t = list (x[i])\n",
    "    p.append(bubble_sort(t))\n",
    "    \n",
    "prom=0\n",
    "suma = 0    \n",
    "for h in range (0,len(p)):\n",
    "    suma = suma + p[h]\n",
    "    \n",
    "prom = (suma)/fac\n",
    "print (\"el promedio es : \",  prom)\n",
    "print (p)\n",
    "plt.hist(p,fac,(min(p),max(p)))"
   ]
  },
  {
   "cell_type": "code",
   "execution_count": 4,
   "metadata": {
    "collapsed": false
   },
   "outputs": [
    {
     "name": "stdout",
     "output_type": "stream",
     "text": [
      "('el promedio es : ', 14)\n"
     ]
    },
    {
     "data": {
      "text/plain": [
       "(array([ 1.,  0.,  0., ...,  0.,  0.,  1.]),\n",
       " array([  0.00000000e+00,   6.94444444e-04,   1.38888889e-03, ...,\n",
       "          2.79986111e+01,   2.79993056e+01,   2.80000000e+01]),\n",
       " <a list of 40320 Patch objects>)"
      ]
     },
     "execution_count": 4,
     "metadata": {},
     "output_type": "execute_result"
    },
    {
     "data": {
      "image/png": "[encoded data removed]",
      "text/plain": [
       "<matplotlib.figure.Figure at 0x7f27fda89d10>"
      ]
     },
     "metadata": {},
     "output_type": "display_data"
    }
   ],
   "source": [
    "from itertools import permutations\n",
    "import matplotlib.pyplot as plt\n",
    "import random\n",
    "\n",
    "\n",
    "def bubble_sort(inp_lis):\n",
    "    end=len(inp_lis)\n",
    "    swap_count=0\n",
    "    total_loops=0\n",
    "    quest_count=0\n",
    "    for i in range(1,end):\n",
    "        local_swaps=0\n",
    "        quest_count +=1\n",
    "        for j in range(end-i): \n",
    "            quest_count+=1                      #each time the loop size decrease by 1, initially loop size n-1\n",
    "            if inp_lis[j] > inp_lis[j+1]:               #if current element is bigger than next\n",
    "              inp_lis[j],inp_lis[j+1] = inp_lis[j+1],inp_lis[j]          #swap\n",
    "              swap_count += 1                                        #increment swap_count\n",
    "              local_swaps+=1\n",
    "              quest_count+=1\n",
    "        total_loops += j+1\n",
    "        #quest_count += 1\n",
    "        if not local_swaps:\n",
    "            quest_count += 1\n",
    "            break\n",
    "   #total_loops\n",
    "   #swap_count\n",
    "    #return swap_count\n",
    "    return swap_count\n",
    "\n",
    "n=8\n",
    "s= random.sample(range(100), n)\n",
    "s = list (s)\n",
    "x= list (permutations(s, n))\n",
    "f=n\n",
    "fac=1\n",
    "p=[]\n",
    "while f > 0:\n",
    "    fac= fac*f\n",
    "    f= f-1\n",
    "for i in range (0,fac):\n",
    "    t = list (x[i])\n",
    "    p.append(bubble_sort(t))\n",
    "    \n",
    "prom=0\n",
    "suma = 0    \n",
    "for h in range (0,len(p)):\n",
    "    suma = suma + p[h]\n",
    "    \n",
    "prom = (suma)/fac\n",
    "print (\"el promedio es : \",  prom)\n",
    "plt.hist(p,fac,(min(p),max(p)))"
   ]
  },
  {
   "cell_type": "markdown",
   "metadata": {},
   "source": [
    "## Steps"
   ]
  },
  {
   "cell_type": "code",
   "execution_count": 5,
   "metadata": {
    "collapsed": false
   },
   "outputs": [
    {
     "name": "stdout",
     "output_type": "stream",
     "text": [
      "('el promedio es : ', 12)\n",
      "[13, 10, 14, 11, 6, 10, 14, 11, 15, 15, 14, 14, 15, 12, 16, 16, 15, 15, 10, 11, 13, 13, 14, 14]\n"
     ]
    },
    {
     "data": {
      "text/plain": [
       "(array([ 1.,  0.,  0.,  0.,  0.,  0.,  0.,  0.,  0.,  3.,  0.,  0.,  3.,\n",
       "         0.,  1.,  0.,  3.,  0.,  0.,  6.,  0.,  5.,  0.,  2.]),\n",
       " array([  6.        ,   6.41666667,   6.83333333,   7.25      ,\n",
       "          7.66666667,   8.08333333,   8.5       ,   8.91666667,\n",
       "          9.33333333,   9.75      ,  10.16666667,  10.58333333,\n",
       "         11.        ,  11.41666667,  11.83333333,  12.25      ,\n",
       "         12.66666667,  13.08333333,  13.5       ,  13.91666667,\n",
       "         14.33333333,  14.75      ,  15.16666667,  15.58333333,  16.        ]),\n",
       " <a list of 24 Patch objects>)"
      ]
     },
     "execution_count": 5,
     "metadata": {},
     "output_type": "execute_result"
    },
    {
     "data": {
      "image/png": "[encoded data removed]",
      "text/plain": [
       "<matplotlib.figure.Figure at 0x7f27fdaf7490>"
      ]
     },
     "metadata": {},
     "output_type": "display_data"
    }
   ],
   "source": [
    "from itertools import permutations\n",
    "import matplotlib.pyplot as plt\n",
    "import random\n",
    "\n",
    "\n",
    "def bubble_sort(inp_lis):\n",
    "    end=len(inp_lis)\n",
    "    swap_count=0\n",
    "    total_loops=0\n",
    "    quest_count=1\n",
    "    for i in range(1,end):\n",
    "        local_swaps=0\n",
    "        quest_count +=1\n",
    "        for j in range(end-i): \n",
    "            quest_count+=1                      #each time the loop size decrease by 1, initially loop size n-1\n",
    "            if inp_lis[j] > inp_lis[j+1]:               #if current element is bigger than next\n",
    "              inp_lis[j],inp_lis[j+1] = inp_lis[j+1],inp_lis[j]          #swap\n",
    "              swap_count += 1                                        #increment swap_count\n",
    "              local_swaps+=1\n",
    "              quest_count+=1\n",
    "        total_loops += j+1\n",
    "        #quest_count += 1\n",
    "        if not local_swaps:\n",
    "            quest_count += 1\n",
    "            break\n",
    "   #total_loops\n",
    "   #swap_count\n",
    "    #return swap_count\n",
    "    return quest_count\n",
    "\n",
    "n=4\n",
    "s= random.sample(range(100), n)\n",
    "s = list (s)\n",
    "x= list (permutations(s, n))\n",
    "f=n\n",
    "fac=1\n",
    "p=[]\n",
    "while f > 0:\n",
    "    fac= fac*f\n",
    "    f= f-1\n",
    "for i in range (0,fac):\n",
    "    t = list (x[i])\n",
    "    p.append(bubble_sort(t))\n",
    "    \n",
    "prom=0\n",
    "suma = 0    \n",
    "for h in range (0,len(p)):\n",
    "    suma = suma + p[h]\n",
    "    \n",
    "prom = (suma)/fac\n",
    "print (\"el promedio es : \",  prom)\n",
    "print (p)\n",
    "plt.hist(p,fac,(min(p),max(p)))"
   ]
  },
  {
   "cell_type": "code",
   "execution_count": 6,
   "metadata": {
    "collapsed": false
   },
   "outputs": [
    {
     "name": "stdout",
     "output_type": "stream",
     "text": [
      "('el promedio es : ', 47)\n"
     ]
    },
    {
     "data": {
      "text/plain": [
       "(array([ 1.,  0.,  0., ...,  0.,  0.,  2.]),\n",
       " array([ 10.        ,  10.00133929,  10.00267857, ...,  63.99732143,\n",
       "         63.99866071,  64.        ]),\n",
       " <a list of 40320 Patch objects>)"
      ]
     },
     "execution_count": 6,
     "metadata": {},
     "output_type": "execute_result"
    },
    {
     "data": {
      "image/png": "[encoded data removed]",
      "text/plain": [
       "<matplotlib.figure.Figure at 0x7f27dbb92a50>"
      ]
     },
     "metadata": {},
     "output_type": "display_data"
    }
   ],
   "source": [
    "from itertools import permutations\n",
    "import matplotlib.pyplot as plt\n",
    "import random\n",
    "\n",
    "\n",
    "def bubble_sort(inp_lis):\n",
    "    end=len(inp_lis)\n",
    "    swap_count=0\n",
    "    total_loops=0\n",
    "    quest_count=1\n",
    "    for i in range(1,end):\n",
    "        local_swaps=0\n",
    "        quest_count +=1\n",
    "        for j in range(end-i): \n",
    "            quest_count+=1                      #each time the loop size decrease by 1, initially loop size n-1\n",
    "            if inp_lis[j] > inp_lis[j+1]:               #if current element is bigger than next\n",
    "              inp_lis[j],inp_lis[j+1] = inp_lis[j+1],inp_lis[j]          #swap\n",
    "              swap_count += 1                                        #increment swap_count\n",
    "              local_swaps+=1\n",
    "              quest_count+=1\n",
    "        total_loops += j+1\n",
    "        #quest_count += 1\n",
    "        if not local_swaps:\n",
    "            quest_count += 1\n",
    "            break\n",
    "   #total_loops\n",
    "   #swap_count\n",
    "    #return swap_count\n",
    "    return quest_count\n",
    "\n",
    "n=8\n",
    "s= random.sample(range(100), n)\n",
    "s = list (s)\n",
    "x= list (permutations(s, n))\n",
    "f=n\n",
    "fac=1\n",
    "p=[]\n",
    "while f > 0:\n",
    "    fac= fac*f\n",
    "    f= f-1\n",
    "for i in range (0,fac):\n",
    "    t = list (x[i])\n",
    "    p.append(bubble_sort(t))\n",
    "    \n",
    "prom=0\n",
    "suma = 0    \n",
    "for h in range (0,len(p)):\n",
    "    suma = suma + p[h]\n",
    "    \n",
    "prom = (suma)/fac\n",
    "print (\"el promedio es : \",  prom)\n",
    "plt.hist(p,fac,(min(p),max(p)))"
   ]
  }
 ],
 "metadata": {
  "kernelspec": {
   "display_name": "Python 2",
   "language": "python",
   "name": "python2"
  },
  "language_info": {
   "codemirror_mode": {
    "name": "ipython",
    "version": 2
   },
   "file_extension": ".py",
   "mimetype": "text/x-python",
   "name": "python",
   "nbconvert_exporter": "python",
   "pygments_lexer": "ipython2",
   "version": "2.7.12"
  }
 },
 "nbformat": 4,
 "nbformat_minor": 2
}