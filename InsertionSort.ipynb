{
 "cells": [
  {
   "cell_type": "markdown",
   "metadata": {},
   "source": [
    "# INSERTION SORT"
   ]
  },
  {
   "cell_type": "markdown",
   "metadata": {},
   "source": [
    "## Swaps "
   ]
  },
  {
   "cell_type": "code",
   "execution_count": 2,
   "metadata": {
    "collapsed": false
   },
   "outputs": [
    {
     "name": "stdout",
     "output_type": "stream",
     "text": [
      "('el promedio es : ', 3)\n",
      "[5, 6, 4, 3, 5, 4, 4, 5, 3, 2, 4, 3, 3, 2, 2, 1, 1, 0, 4, 3, 3, 2, 2, 1]\n"
     ]
    },
    {
     "data": {
      "text/plain": [
       "(array([ 1.,  0.,  0.,  0.,  3.,  0.,  0.,  0.,  5.,  0.,  0.,  0.,  6.,\n",
       "         0.,  0.,  0.,  5.,  0.,  0.,  0.,  3.,  0.,  0.,  1.]),\n",
       " array([ 0.  ,  0.25,  0.5 ,  0.75,  1.  ,  1.25,  1.5 ,  1.75,  2.  ,\n",
       "         2.25,  2.5 ,  2.75,  3.  ,  3.25,  3.5 ,  3.75,  4.  ,  4.25,\n",
       "         4.5 ,  4.75,  5.  ,  5.25,  5.5 ,  5.75,  6.  ]),\n",
       " <a list of 24 Patch objects>)"
      ]
     },
     "execution_count": 2,
     "metadata": {},
     "output_type": "execute_result"
    },
    {
     "data": {
      "image/png": "[encoded data removed]",
      "text/plain": [
       "<matplotlib.figure.Figure at 0x7f8373605c50>"
      ]
     },
     "metadata": {},
     "output_type": "display_data"
    }
   ],
   "source": [
    "import matplotlib.pyplot as plt\n",
    "from itertools import permutations\n",
    "import random\n",
    "class Counter:\n",
    "    def __init__(self):\n",
    "        self.steps = 0\n",
    "\n",
    "    def reset(self):\n",
    "        self.steps = 0\n",
    "\n",
    "    def count(self):\n",
    "        self.steps += 1\n",
    "\n",
    "    def print_steps(self):\n",
    "        return self.steps\n",
    "        \n",
    "def insertionsort(A,swap):   \n",
    "    for j in range(1,len(A)):\n",
    "        key = A[j] #look\n",
    "        i = j-1 \n",
    "        while (i > -1) and key < A[i]: \n",
    "            A[i+1]=A[i]\n",
    "            swap.count()\n",
    "            i=i-1\n",
    "        A[i+1] = key\n",
    "    return A\n",
    "    \n",
    "n= 4\n",
    "s= random.sample(range(100), n)\n",
    "s = list (s)\n",
    "x= list (permutations(s, n))\n",
    "f=n\n",
    "fac=1\n",
    "p=[]\n",
    "while f > 0:\n",
    "    fac= fac*f\n",
    "    f= f-1\n",
    "for i in range (0,fac):\n",
    "    t = list (x[i])\n",
    "    swap = Counter ()\n",
    "    insertionsort(t,swap)\n",
    "    p.append(swap.print_steps())\n",
    "    \n",
    "prom=0\n",
    "suma = 0    \n",
    "for h in range (0,fac):\n",
    "    suma = suma + p[h]\n",
    "    \n",
    "prom = (suma)/fac\n",
    "print (\"el promedio es : \" , prom)\n",
    "print p\n",
    "plt.hist(p,fac,(min(p),max(p)))"
   ]
  },
  {
   "cell_type": "code",
   "execution_count": 3,
   "metadata": {
    "collapsed": false
   },
   "outputs": [
    {
     "name": "stdout",
     "output_type": "stream",
     "text": [
      "('el promedio es : ', 14)\n"
     ]
    },
    {
     "data": {
      "text/plain": [
       "(array([ 1.,  0.,  0., ...,  0.,  0.,  1.]),\n",
       " array([  0.00000000e+00,   6.94444444e-04,   1.38888889e-03, ...,\n",
       "          2.79986111e+01,   2.79993056e+01,   2.80000000e+01]),\n",
       " <a list of 40320 Patch objects>)"
      ]
     },
     "execution_count": 3,
     "metadata": {},
     "output_type": "execute_result"
    },
    {
     "data": {
      "image/png": "[encoded data removed]",
      "text/plain": [
       "<matplotlib.figure.Figure at 0x7f83737b3810>"
      ]
     },
     "metadata": {},
     "output_type": "display_data"
    }
   ],
   "source": [
    "import matplotlib.pyplot as plt\n",
    "from itertools import permutations\n",
    "import random\n",
    "class Counter:\n",
    "    def __init__(self):\n",
    "        self.steps = 0\n",
    "\n",
    "    def reset(self):\n",
    "        self.steps = 0\n",
    "\n",
    "    def count(self):\n",
    "        self.steps += 1\n",
    "\n",
    "    def print_steps(self):\n",
    "        return self.steps\n",
    "        \n",
    "def insertionsort(A,swap):   \n",
    "    for j in range(1,len(A)):\n",
    "        key = A[j] #look\n",
    "        i = j-1 \n",
    "        while (i > -1) and key < A[i]: \n",
    "            A[i+1]=A[i]\n",
    "            swap.count()\n",
    "            i=i-1\n",
    "        A[i+1] = key\n",
    "    return A\n",
    "    \n",
    "n= 8\n",
    "s= random.sample(range(100), n)\n",
    "s = list (s)\n",
    "x= list (permutations(s, n))\n",
    "f=n\n",
    "fac=1\n",
    "p=[]\n",
    "while f > 0:\n",
    "    fac= fac*f\n",
    "    f= f-1\n",
    "for i in range (0,fac):\n",
    "    t = list (x[i])\n",
    "    swap = Counter ()\n",
    "    insertionsort(t,swap)\n",
    "    p.append(swap.print_steps())\n",
    "    \n",
    "prom=0\n",
    "suma = 0    \n",
    "for h in range (0,fac):\n",
    "    suma = suma + p[h]\n",
    "    \n",
    "prom = (suma)/fac\n",
    "print (\"el promedio es : \" , prom)\n",
    "plt.hist(p,fac,(min(p),max(p)))"
   ]
  },
  {
   "cell_type": "markdown",
   "metadata": {},
   "source": [
    "## LOOPS"
   ]
  },
  {
   "cell_type": "code",
   "execution_count": 4,
   "metadata": {
    "collapsed": false
   },
   "outputs": [
    {
     "name": "stdout",
     "output_type": "stream",
     "text": [
      "('el promedio es : ', 6)\n",
      "[3, 4, 4, 5, 5, 6, 4, 5, 5, 6, 6, 7, 5, 6, 6, 7, 7, 8, 6, 7, 7, 8, 8, 9]\n"
     ]
    },
    {
     "data": {
      "text/plain": [
       "(array([ 1.,  0.,  0.,  0.,  3.,  0.,  0.,  0.,  5.,  0.,  0.,  0.,  6.,\n",
       "         0.,  0.,  0.,  5.,  0.,  0.,  0.,  3.,  0.,  0.,  1.]),\n",
       " array([ 3.  ,  3.25,  3.5 ,  3.75,  4.  ,  4.25,  4.5 ,  4.75,  5.  ,\n",
       "         5.25,  5.5 ,  5.75,  6.  ,  6.25,  6.5 ,  6.75,  7.  ,  7.25,\n",
       "         7.5 ,  7.75,  8.  ,  8.25,  8.5 ,  8.75,  9.  ]),\n",
       " <a list of 24 Patch objects>)"
      ]
     },
     "execution_count": 4,
     "metadata": {},
     "output_type": "execute_result"
    },
    {
     "data": {
      "image/png": "[encoded data removed]",
      "text/plain": [
       "<matplotlib.figure.Figure at 0x7f836c20eed0>"
      ]
     },
     "metadata": {},
     "output_type": "display_data"
    }
   ],
   "source": [
    "import matplotlib.pyplot as plt\n",
    "from itertools import permutations\n",
    "import random\n",
    "class Counter:\n",
    "    def __init__(self):\n",
    "        self.steps = 0\n",
    "\n",
    "    def reset(self):\n",
    "        self.steps = 0\n",
    "\n",
    "    def count(self):\n",
    "        self.steps += 1\n",
    "\n",
    "    def print_steps(self):\n",
    "        return self.steps\n",
    "        \n",
    "def insertionsort(A,look):   \n",
    "    for j in range(1,len(A)):\n",
    "        key = A[j] \n",
    "        i = j-1 \n",
    "        look.count()\n",
    "        while (i > -1) and key < A[i]: \n",
    "            A[i+1]=A[i]\n",
    "            i=i-1\n",
    "            look.count()\n",
    "        A[i+1] = key\n",
    "    return A\n",
    "    \n",
    "n= 4\n",
    "s= random.sample(range(100), n)\n",
    "s = list (s)\n",
    "x= list (permutations(s, n))\n",
    "p=[]\n",
    "f=n\n",
    "fac=1\n",
    "\n",
    "while f > 0:\n",
    "    fac= fac*f\n",
    "    f= f-1\n",
    "\n",
    "for i in range (0,fac):\n",
    "    t = list (x[i])\n",
    "    look = Counter ()\n",
    "    insertionsort(t,look)\n",
    "    p.append(look.print_steps())\n",
    "    \n",
    "prom=0\n",
    "suma = 0    \n",
    "for h in range (0,fac):\n",
    "    suma = suma + p[h]\n",
    "    \n",
    "prom = (suma)/fac\n",
    "print (\"el promedio es : \" , prom)\n",
    "print p\n",
    "plt.hist(p,fac,(min(p),max(p)))\n"
   ]
  },
  {
   "cell_type": "code",
   "execution_count": 1,
   "metadata": {
    "collapsed": false
   },
   "outputs": [
    {
     "name": "stdout",
     "output_type": "stream",
     "text": [
      "('el promedio es : ', 21)\n"
     ]
    },
    {
     "data": {
      "text/plain": [
       "(array([ 1.,  0.,  0., ...,  0.,  0.,  1.]),\n",
       " array([  7.        ,   7.00069444,   7.00138889, ...,  34.99861111,\n",
       "         34.99930556,  35.        ]),\n",
       " <a list of 40320 Patch objects>)"
      ]
     },
     "execution_count": 1,
     "metadata": {},
     "output_type": "execute_result"
    },
    {
     "data": {
      "image/png": "[encoded data removed]",
      "text/plain": [
       "<matplotlib.figure.Figure at 0x7fe68a659490>"
      ]
     },
     "metadata": {},
     "output_type": "display_data"
    }
   ],
   "source": [
    "import matplotlib.pyplot as plt\n",
    "from itertools import permutations\n",
    "import random\n",
    "class Counter:\n",
    "    def __init__(self):\n",
    "        self.steps = 0\n",
    "\n",
    "    def reset(self):\n",
    "        self.steps = 0\n",
    "\n",
    "    def count(self):\n",
    "        self.steps += 1\n",
    "\n",
    "    def print_steps(self):\n",
    "        return self.steps\n",
    "        \n",
    "def insertionsort(A,look):   \n",
    "    for j in range(1,len(A)):\n",
    "        key = A[j] \n",
    "        i = j-1 \n",
    "        look.count()\n",
    "        while (i > -1) and key < A[i]: \n",
    "            A[i+1]=A[i]\n",
    "            i=i-1\n",
    "            look.count()\n",
    "        A[i+1] = key\n",
    "    return A\n",
    "    \n",
    "n= 8\n",
    "s= random.sample(range(100), n)\n",
    "s = list (s)\n",
    "x= list (permutations(s, n))\n",
    "p=[]\n",
    "f=n\n",
    "fac=1\n",
    "\n",
    "while f > 0:\n",
    "    fac= fac*f\n",
    "    f= f-1\n",
    "\n",
    "for i in range (0,fac):\n",
    "    t = list (x[i])\n",
    "    look = Counter ()\n",
    "    insertionsort(t,look)\n",
    "    p.append(look.print_steps())\n",
    "    \n",
    "prom=0\n",
    "suma = 0    \n",
    "for h in range (0,fac):\n",
    "    suma = suma + p[h]\n",
    "    \n",
    "prom = (suma)/fac\n",
    "print (\"el promedio es : \" , prom)\n",
    "plt.hist(p,fac,(min(p),max(p)))"
   ]
  },
  {
   "cell_type": "markdown",
   "metadata": {},
   "source": [
    "## PASOS"
   ]
  },
  {
   "cell_type": "code",
   "execution_count": 2,
   "metadata": {
    "collapsed": false
   },
   "outputs": [
    {
     "name": "stdout",
     "output_type": "stream",
     "text": [
      "('el promedio es : ', 25)\n",
      "[34, 31, 31, 28, 28, 25, 31, 28, 28, 25, 25, 22, 28, 25, 25, 22, 22, 19, 25, 22, 22, 19, 19, 16]\n"
     ]
    },
    {
     "data": {
      "text/plain": [
       "(array([ 1.,  0.,  0.,  0.,  3.,  0.,  0.,  0.,  5.,  0.,  0.,  0.,  6.,\n",
       "         0.,  0.,  0.,  5.,  0.,  0.,  0.,  3.,  0.,  0.,  1.]),\n",
       " array([ 16.  ,  16.75,  17.5 ,  18.25,  19.  ,  19.75,  20.5 ,  21.25,\n",
       "         22.  ,  22.75,  23.5 ,  24.25,  25.  ,  25.75,  26.5 ,  27.25,\n",
       "         28.  ,  28.75,  29.5 ,  30.25,  31.  ,  31.75,  32.5 ,  33.25,  34.  ]),\n",
       " <a list of 24 Patch objects>)"
      ]
     },
     "execution_count": 2,
     "metadata": {},
     "output_type": "execute_result"
    },
    {
     "data": {
      "image/png": "[encoded data removed]",
      "text/plain": [
       "<matplotlib.figure.Figure at 0x7fe5ef874390>"
      ]
     },
     "metadata": {},
     "output_type": "display_data"
    }
   ],
   "source": [
    "from itertools import permutations\n",
    "import matplotlib.pyplot as plt\n",
    "import random\n",
    "class Counter:\n",
    "\n",
    " \n",
    "    def __init__(self):\n",
    "        self.steps = 0\n",
    "        \n",
    "    def reset(self):\n",
    "        self.steps = 0\n",
    "\n",
    "    def count(self):\n",
    "        self.steps += 1\n",
    "\n",
    "    def print_steps(self):\n",
    "        return self.steps\n",
    "        \n",
    "def acct_insertion_sort(A, acct):\n",
    "    j = 1; acct.count()\n",
    "    while j < len(A):\n",
    "        key = A[j]; acct.count()\n",
    "        i = j - 1; acct.count()\n",
    "        acct.count()\n",
    "        while (i >= 0) and (A[i] > key):\n",
    "            acct.count()\n",
    "            A[i + 1] = A[i]; acct.count()\n",
    "            i = i -1; acct.count()\n",
    "        A[i + 1] = key; acct.count()\n",
    "        j = j + 1; acct.count()\n",
    "n= 4\n",
    "s= random.sample(range(100), n)\n",
    "s = list (s)\n",
    "x= list (permutations(s, n))\n",
    "f=n\n",
    "fac=1\n",
    "p=[]\n",
    "while f > 0:\n",
    "    fac= fac*f\n",
    "    f= f-1\n",
    "for i in range (0,fac):\n",
    "    t = list (x[i])\n",
    "    step = Counter ()\n",
    "    acct_insertion_sort(t,step)\n",
    "    p.append(step.print_steps())\n",
    "    \n",
    "prom=0\n",
    "suma = 0    \n",
    "for h in range (0,len(p)):\n",
    "    suma = suma + p[h]\n",
    "    \n",
    "prom = (suma)/fac\n",
    "print (\"el promedio es : \",  prom)\n",
    "print p\n",
    "plt.hist(p,fac,(min(p),max(p)))\n",
    "\n"
   ]
  },
  {
   "cell_type": "code",
   "execution_count": 3,
   "metadata": {
    "collapsed": false
   },
   "outputs": [
    {
     "name": "stdout",
     "output_type": "stream",
     "text": [
      "('el promedio es : ', 78)\n"
     ]
    },
    {
     "data": {
      "text/plain": [
       "(array([ 1.,  0.,  0., ...,  0.,  0.,  1.]),\n",
       " array([  36.        ,   36.00208333,   36.00416667, ...,  119.99583333,\n",
       "         119.99791667,  120.        ]),\n",
       " <a list of 40320 Patch objects>)"
      ]
     },
     "execution_count": 3,
     "metadata": {},
     "output_type": "execute_result"
    },
    {
     "data": {
      "image/png": "[encoded data removed]",
      "text/plain": [
       "<matplotlib.figure.Figure at 0x7fe5e0e30390>"
      ]
     },
     "metadata": {},
     "output_type": "display_data"
    }
   ],
   "source": [
    "from itertools import permutations\n",
    "import matplotlib.pyplot as plt\n",
    "import random\n",
    "class Counter:\n",
    "\n",
    " \n",
    "    def __init__(self):\n",
    "        self.steps = 0\n",
    "        \n",
    "    def reset(self):\n",
    "        self.steps = 0\n",
    "\n",
    "    def count(self):\n",
    "        self.steps += 1\n",
    "\n",
    "    def print_steps(self):\n",
    "        return self.steps\n",
    "        \n",
    "def acct_insertion_sort(A, acct):\n",
    "    j = 1; acct.count()\n",
    "    while j < len(A):\n",
    "        key = A[j]; acct.count()\n",
    "        i = j - 1; acct.count()\n",
    "        acct.count()\n",
    "        while (i >= 0) and (A[i] > key):\n",
    "            acct.count()\n",
    "            A[i + 1] = A[i]; acct.count()\n",
    "            i = i -1; acct.count()\n",
    "        A[i + 1] = key; acct.count()\n",
    "        j = j + 1; acct.count()\n",
    "n= 8\n",
    "s= random.sample(range(100), n)\n",
    "s = list (s)\n",
    "x= list (permutations(s, n))\n",
    "f=n\n",
    "fac=1\n",
    "p=[]\n",
    "while f > 0:\n",
    "    fac= fac*f\n",
    "    f= f-1\n",
    "for i in range (0,fac):\n",
    "    t = list (x[i])\n",
    "    step = Counter ()\n",
    "    acct_insertion_sort(t,step)\n",
    "    p.append(step.print_steps())\n",
    "    \n",
    "prom=0\n",
    "suma = 0    \n",
    "for h in range (0,len(p)):\n",
    "    suma = suma + p[h]\n",
    "    \n",
    "prom = (suma)/fac\n",
    "print (\"el promedio es : \",  prom)\n",
    "plt.hist(p,fac,(min(p),max(p)))"
   ]
  }
 ],
 "metadata": {
  "kernelspec": {
   "display_name": "Python 2",
   "language": "python",
   "name": "python2"
  },
  "language_info": {
   "codemirror_mode": {
    "name": "ipython",
    "version": 2
   },
   "file_extension": ".py",
   "mimetype": "text/x-python",
   "name": "python",
   "nbconvert_exporter": "python",
   "pygments_lexer": "ipython2",
   "version": "2.7.12"
  }
 },
 "nbformat": 4,
 "nbformat_minor": 2
}