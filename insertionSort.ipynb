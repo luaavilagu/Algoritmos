{
 "cells": [
  {
   "cell_type": "code",
   "execution_count": 9,
   "metadata": {},
   "outputs": [
    {
     "name": "stdout",
     "output_type": "stream",
     "text": [
      "el promedio es :  12.0\n"
     ]
    },
    {
     "data": {
      "image/png": "[encoded data removed]",
      "text/plain": [
       "<matplotlib.figure.Figure at 0x1c6394d86a0>"
      ]
     },
     "metadata": {},
     "output_type": "display_data"
    }
   ],
   "source": [
    "# -*- coding: utf-8 -*-\n",
    "\"\"\"\n",
    "Created on Mon Mar 12 01:43:57 2018\n",
    "\n",
    "@author: alejandro.avila\n",
    "\"\"\"\n",
    "import random\n",
    "from matplotlib.pylab import hist, show\n",
    "from itertools import permutations\n",
    "import random\n",
    "class Counter:\n",
    "    def __init__(self):\n",
    "        self.steps = 0\n",
    "\n",
    "    def reset(self):\n",
    "        self.steps = 0\n",
    "\n",
    "    def count(self):\n",
    "        self.steps += 1\n",
    "\n",
    "    def print_steps(self):\n",
    "        return self.steps\n",
    "        \n",
    "def insertionsort(A,look):   \n",
    "    for j in range(1,len(A)):\n",
    "        key = A[j] \n",
    "        i = j-1 \n",
    "        look.count()\n",
    "        while (i > -1) and key < A[i]: \n",
    "            A[i+1]=A[i]\n",
    "            i=i-1\n",
    "            look.count()\n",
    "        A[i+1] = key\n",
    "    return A\n",
    "    \n",
    "#n= input()\n",
    "n=5\n",
    "s= random.sample(range(100), n)\n",
    "s = list (s)\n",
    "x= list (permutations(s, n))\n",
    "p=[]\n",
    "#print (x)\n",
    "\n",
    "f=n\n",
    "fac=1\n",
    "\n",
    "while f > 0:\n",
    "    fac= fac*f\n",
    "    f= f-1\n",
    "    \n",
    "#print (\"valor fac \", fac, \" valor f \", f)\n",
    "\n",
    "for i in range (0,fac):\n",
    "    #print (x[i])\n",
    "    t = list (x[i])\n",
    "    look = Counter ()\n",
    "    insertionsort(t,look)\n",
    "    #print(t)\n",
    "    p.append(look.print_steps())\n",
    "    #print (p)\n",
    "    #print (\"\\n\")\n",
    "    \n",
    "prom=0\n",
    "suma = 0\n",
    "cantidad = 0\n",
    "for h in range (0,len(p)):\n",
    "    suma = suma + p[i]\n",
    "    cantidad = cantidad + 1\n",
    "    \n",
    "prom = (suma)/cantidad\n",
    "print (\"el promedio es : \" , prom)\n",
    "    \n",
    "plt = hist(p,fac, (n-1,max(p)))\n",
    "\n",
    "show()"
   ]
  },
  {
   "cell_type": "code",
   "execution_count": null,
   "metadata": {
    "collapsed": true
   },
   "outputs": [],
   "source": []
  }
 ],
 "metadata": {
  "kernelspec": {
   "display_name": "Python 3",
   "language": "python",
   "name": "python3"
  },
  "language_info": {
   "codemirror_mode": {
    "name": "ipython",
    "version": 3
   },
   "file_extension": ".py",
   "mimetype": "text/x-python",
   "name": "python",
   "nbconvert_exporter": "python",
   "pygments_lexer": "ipython3",
   "version": "3.6.1"
  }
 },
 "nbformat": 4,
 "nbformat_minor": 2
}
